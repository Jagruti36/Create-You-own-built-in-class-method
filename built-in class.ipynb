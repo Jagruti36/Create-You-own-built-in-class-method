{
 "cells": [
  {
   "cell_type": "code",
   "execution_count": 1,
   "id": "f5fe6cfd",
   "metadata": {},
   "outputs": [
    {
     "name": "stdout",
     "output_type": "stream",
     "text": [
      "Enter the value of x: 10\n",
      "Enter the nth power of x: 2\n",
      "100\n"
     ]
    }
   ],
   "source": [
    "class power:\n",
    "    def pow(self,x,n):\n",
    "        self.x = x\n",
    "        self.n = n\n",
    "        result = 1\n",
    "        if n<0:\n",
    "            return 1/self.pow(x,-n)\n",
    "        for _ in range(self.n):\n",
    "            result = result * self.x\n",
    "        return result\n",
    "\n",
    "x= int(input(\"Enter the value of x: \"))\n",
    "n= int(input(\"Enter the nth power of x: \"))\n",
    "output = power().pow(x,n)\n",
    "print(output)"
   ]
  },
  {
   "cell_type": "code",
   "execution_count": null,
   "id": "daba2bbb",
   "metadata": {},
   "outputs": [],
   "source": []
  }
 ],
 "metadata": {
  "kernelspec": {
   "display_name": "Python 3",
   "language": "python",
   "name": "python3"
  },
  "language_info": {
   "codemirror_mode": {
    "name": "ipython",
    "version": 3
   },
   "file_extension": ".py",
   "mimetype": "text/x-python",
   "name": "python",
   "nbconvert_exporter": "python",
   "pygments_lexer": "ipython3",
   "version": "3.8.8"
  }
 },
 "nbformat": 4,
 "nbformat_minor": 5
}
